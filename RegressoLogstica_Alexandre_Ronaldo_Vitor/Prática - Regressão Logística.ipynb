{
 "cells": [
  {
   "cell_type": "markdown",
   "metadata": {},
   "source": [
    "## Notação matemática usada na prática"
   ]
  },
  {
   "cell_type": "markdown",
   "metadata": {},
   "source": [
    "Adotamos o padrão matemático para definir as variáveis a seguir. Nesse padrão, todas as variáveis que representam matrizes estão em maiúsculas, vetores em negrito e minúscula e, valores numéricos, como variáveis minusculas. Logo após, mapeamos cada variável matemática com uma respectiva variável em Python."
   ]
  },
  {
   "cell_type": "markdown",
   "metadata": {},
   "source": [
    "- $m$: quantidade de instancias\n",
    "- $f$: quantidade de atributos\n",
    "- $X$: Matriz de instâncias representadas pelo seus atributos dimensão $(m,f)$\n",
    "- $\\pmb{y}$: Vetor de tamanho $m$ representando a classe real de cada instância\n",
    "- $\\pmb{\\hat{y}}$: Vetor de predições que, para cada instancia, possui o valor predito para ela. Caso seja uma classificação binária, este valor será 0 ou 1\n",
    "- $\\pmb{w}$: vetor de pesos para ponderar os atributos (também chamado de parâmetros), tamanho $f$\n",
    "- $w_j$: $j$-ésimo valor do vetor $\\pmb{w}$ que pondera $j$-ésimo atributo da matriz $X$\n",
    "- $b$: Valor de viés da regressão logística (do inglês, bias term)\n",
    "- $\\pmb{z}$: vetor de tamanho $m$ representado o resultado da função z, para cada instancia $m$. \n",
    "- $z_i$: Representa o resultado da função z para a instancia $i$. \n",
    "- $\\pmb{a}$: Vetor de ativações de tamanho $m$ calculada por meio do vetor $z$\n",
    "- $a_i$: Valor de ativação da instancia $i$\n",
    "- $\\pmb{z^d}$: Derivada $\\frac{\\partial J}{\\partial z_i}$ para cada instância $i$ do modelo. Possui o mesmo tamanho que  $\\pmb{z}$\n",
    "- $\\pmb{w^d}$ Derivada $\\frac{\\partial J}{\\partial w_j}$ para cada peso $j$ do modelo, possui o mesmo tamanho de $\\pmb{w}$\n",
    "- $b^d$ Derivada $\\frac{\\partial J}{\\partial b}$ "
   ]
  },
  {
   "cell_type": "markdown",
   "metadata": {},
   "source": [
    "## Implementação das classes FuncaoAtivacao e RegressaoLogistica"
   ]
  },
  {
   "cell_type": "markdown",
   "metadata": {},
   "source": [
    "**Atividade 1: Função de ativação**: Iniciamente, você deverá criar a função de ativação e a derivada $\\frac{\\partial J}{\\partial w_j}$ quando se usa essa função. Para isso, você deverá criar uma instancia da classe `FuncaoAtivação` representando a função sigmoid. Para criar esse objeto, você deverá passar dois parametros: sua função de ativação, representada pelo parâmetro `funcao`, e a função que calcula o vetor gradiente $\\pmb{z^d}$, representada pelo parâmetro `dz_funcao`. Essa derivada é passada na função de ativação pois será diferente dependendo de qual função de ativação será usada.\n",
    "\n",
    "O atributo `funcao`, irá esperar um parametro  `z`, representando o vetor $\\pmb{z}$ e, o atributo `dz_funcao`, irá esperar como parametro `a`, `z` e `y` representando os vetores $\\pmb{a}$, $\\pmb{z}$ e $\\pmb{y}$. Os pâmetros `a`, `z` e `y` podem ser listas ou números reais, por isso use a biblioteca numpy para fazer as operações matemáticas ao invés das funções do pacote `math` durante toda a prática (ex. [np.exp](https://docs.scipy.org/doc/numpy/reference/generated/numpy.exp.html), [np.log](https://docs.scipy.org/doc/numpy/reference/generated/numpy.log.html)). Essa biblioteca trabalha com listas e vetores da mesma forma além de usar vetorização.\n",
    "\n",
    "\n",
    "<!--\n",
    "A palavra **função** está sendo usada em dois contextos aqui: você criará três **instancias da classe** FuncaoAtivacao, cada uma, passando como parametro uma função (e sua derivada). Por exemplo, **uma das instancias da da classe FuncaoAtivação** será a sigmoid em que se criará **um objeto de nome \"sigmoid\"** com dois parametros: (1) a **função de transformação sigmoid** e, outro, **a função do cálculo** da derivada $\\frac{\\partial J}{\\partial w_j}$ baseada na função de tranformação sigmoid. \n",
    "-->\n",
    "\n",
    "Para implementar as funções e passá-las como parâmetro, você pode criar uma função anônima por meio da [função lambda](https://docs.python.org/2/tutorial/controlflow.html#lambda-expressions).  Veja abaixo um exemplo de usar funções como parametros. "
   ]
  },
  {
   "cell_type": "code",
   "execution_count": 48,
   "metadata": {},
   "outputs": [
    {
     "name": "stdout",
     "output_type": "stream",
     "text": [
      "7\n",
      "..... Minha linda interface de dar oi ------\n",
      "Hi Alice! How are you?\n",
      ".....\n",
      "..... Minha linda interface de dar oi ------\n",
      "Oi Alice! Como vai?\n",
      ".....\n"
     ]
    }
   ],
   "source": [
    "#criação de uma funcao de soma\n",
    "soma = lambda x,y:x+y\n",
    "result = soma(3,4)\n",
    "print(result)\n",
    "\n",
    "#Exemplo mais bonitinho :)\n",
    "#Cada função retorna o oi em um determinado idioma\n",
    "#a função lambda recebe como parametro o nome da pessoa\n",
    "#e retorna uma string com a forma de dar oi nesse idioma\n",
    "oi_pt = lambda str_pessoa:f\"Oi {str_pessoa}! Como vai?\"\n",
    "oi_en = lambda str_pessoa:f\"Hi {str_pessoa}! How are you?\"\n",
    "\n",
    "def da_oi_para(funcao_de_dar_oi,str_pessoa):\n",
    "    print(\"..... Minha linda interface de dar oi ------\")\n",
    "    str_oi = funcao_de_dar_oi(str_pessoa)\n",
    "    print(str_oi)\n",
    "    print(\".....\")\n",
    "    \n",
    "#essa funcao é passada como parametro na funcao da_oi_para\n",
    "da_oi_para(oi_en,\"Alice\")\n",
    "da_oi_para(oi_pt,\"Alice\")\n",
    "\n",
    "\n",
    "     "
   ]
  },
  {
   "cell_type": "markdown",
   "metadata": {},
   "source": [
    "Faça o teste abaixo da função sigmoide e da sua derivada:"
   ]
  },
  {
   "cell_type": "code",
   "execution_count": 49,
   "metadata": {},
   "outputs": [
    {
     "name": "stdout",
     "output_type": "stream",
     "text": [
      ".\n",
      "----------------------------------------------------------------------\n",
      "Ran 1 test in 0.000s\n",
      "\n",
      "OK\n"
     ]
    }
   ],
   "source": [
    "!python3 -m regressao_logistica_test TestFuncaoAtivacao.test_sigmoid"
   ]
  },
  {
   "cell_type": "code",
   "execution_count": 50,
   "metadata": {},
   "outputs": [
    {
     "name": "stdout",
     "output_type": "stream",
     "text": [
      ".\n",
      "----------------------------------------------------------------------\n",
      "Ran 1 test in 0.000s\n",
      "\n",
      "OK\n"
     ]
    }
   ],
   "source": [
    "!python3 -m regressao_logistica_test TestFuncaoAtivacao.test_sigmoid_dz"
   ]
  },
  {
   "cell_type": "markdown",
   "metadata": {},
   "source": [
    "**Atividade 2 - implementação do método `z` da classe `RegressaoLogistica`**: Essa classe possui os seguintes atributos:\n",
    "\n",
    "- `arr_w`: vetor de pesos $\\pmb{w}$\n",
    "- `b`: Valor de viés da regressão logística\n",
    "- `func_ativacao`: função de ativação a ser usada. Esse atributo é uma função Python\n",
    "- `dz_func`: função derivada a ser usada de acordo com a função de ativação. Esse atributo também é uma função Python\n",
    "- `int_max_it`: Número de iterações (épocas) a rodar a regressão logística\n",
    "- `mat_x`: Matriz $X$ de atributos por instâncias\n",
    "- `arr_y`: Vetor de classes reais $\\pmb{y}$\n",
    "- `arr_z`: vetor de resultados $\\pmb{z}$ \n",
    "- `arr_a`: vetor de ativações $\\pmb{a}$\n",
    "- `gradiente`: Instancia da classe `Gradiente` que possui os atributos `arr_dz`, `arr_dw` e `db` representando, respectivamente, $\\pmb{z^d}$, $\\pmb{w^d}$ e $b^d$. \n",
    "\n",
    "Você deverá, por meio do vetor de pesos `arr_w`, valor `b` (ambos atributos da classe) e a matriz de atributos `mat_x` (passado como parâmetro) implementar o método `z` que retornará o vetor de resultados $\\pmb{z}$. Use o [método dot](https://docs.scipy.org/doc/numpy/reference/generated/numpy.matrix.dot.html) e o [atributo T](https://docs.scipy.org/doc/numpy-1.15.0/reference/generated/numpy.ndarray.T.html) dos arranjos numpy."
   ]
  },
  {
   "cell_type": "code",
   "execution_count": 51,
   "metadata": {},
   "outputs": [
    {
     "name": "stdout",
     "output_type": "stream",
     "text": [
      "(4,)\n",
      "(3, 4)\n",
      ".\n",
      "----------------------------------------------------------------------\n",
      "Ran 1 test in 0.002s\n",
      "\n",
      "OK\n"
     ]
    }
   ],
   "source": [
    "!python3 -m regressao_logistica_test TestRegressaoLogistica.test_z"
   ]
  },
  {
   "cell_type": "markdown",
   "metadata": {},
   "source": [
    "**Atividade 3 - Forward propagation:** Implemente o método  `forward_propagation`. Nele, você irá usar a matriz $X$, representada por `mat_x`, o vetor de pesos $\\pmb{w}$, representado pelo atributo `arr_w` para calcular os vetores $\\pmb{z}$ e $\\pmb{a}$ por meio do método `z` e da função de ativação, armazenada no atributo `func_ativacao`. Verifique nesse método se o `arr_w` está definido, caso não esteja, você deverá inicializá-lo com zero em todas as posições (use a função [np.zeros](https://docs.scipy.org/doc/numpy/reference/generated/numpy.zeros.html)). Veja o tamanho de w para isso"
   ]
  },
  {
   "cell_type": "code",
   "execution_count": 52,
   "metadata": {},
   "outputs": [
    {
     "name": "stdout",
     "output_type": "stream",
     "text": [
      ".\n",
      "----------------------------------------------------------------------\n",
      "Ran 1 test in 0.001s\n",
      "\n",
      "OK\n"
     ]
    }
   ],
   "source": [
    "!python3 -m regressao_logistica_test TestRegressaoLogistica.test_forward_propagation"
   ]
  },
  {
   "cell_type": "markdown",
   "metadata": {},
   "source": [
    "**Atividade 4 - Backward propagation**: Você deverá implementar a função que calcula os gradientes conforme especificado no método"
   ]
  },
  {
   "cell_type": "code",
   "execution_count": 53,
   "metadata": {},
   "outputs": [
    {
     "name": "stdout",
     "output_type": "stream",
     "text": [
      "DZ(0) - teste:-0.323004143761477\n",
      "DZ(1) - teste:0.6153837563911821\n",
      "DZ(2) - teste:-0.2244359857309266\n",
      ".\n",
      "----------------------------------------------------------------------\n",
      "Ran 1 test in 0.001s\n",
      "\n",
      "OK\n"
     ]
    }
   ],
   "source": [
    "!python3 -m regressao_logistica_test TestRegressaoLogistica.test_backward_propagation"
   ]
  },
  {
   "cell_type": "markdown",
   "metadata": {},
   "source": [
    "**Atividade 5 - Calcule a loss function**: Implemente no método `loss_function` a função de perda por meio da entropia cruzada, usando os atributos `arr_a` e `arr_y`"
   ]
  },
  {
   "cell_type": "code",
   "execution_count": 54,
   "metadata": {},
   "outputs": [
    {
     "name": "stdout",
     "output_type": "stream",
     "text": [
      ".\n",
      "----------------------------------------------------------------------\n",
      "Ran 1 test in 0.000s\n",
      "\n",
      "OK\n"
     ]
    }
   ],
   "source": [
    "!python3 -m regressao_logistica_test TestRegressaoLogistica.test_loss_function"
   ]
  },
  {
   "cell_type": "markdown",
   "metadata": {},
   "source": [
    "**Atividade 6 - Atualizar pesos**: Atualize os pesos `arr_w` e `b` por meio do gradiente e do parâmetro `learning_rate` "
   ]
  },
  {
   "cell_type": "code",
   "execution_count": 55,
   "metadata": {},
   "outputs": [
    {
     "name": "stdout",
     "output_type": "stream",
     "text": [
      ".\n",
      "----------------------------------------------------------------------\n",
      "Ran 1 test in 0.000s\n",
      "\n",
      "OK\n"
     ]
    }
   ],
   "source": [
    "!python3 -m regressao_logistica_test TestRegressaoLogistica.test_atualiza_pesos"
   ]
  },
  {
   "cell_type": "markdown",
   "metadata": {},
   "source": [
    "**Atividade 7 - método `fit`**: Cria o modelo de regressão logistica por meio de `int_max_it` épocas\n",
    "        imprime, a cada 10 épocas, a loss function obtida"
   ]
  },
  {
   "cell_type": "code",
   "execution_count": 56,
   "metadata": {},
   "outputs": [
    {
     "name": "stdout",
     "output_type": "stream",
     "text": [
      "Iteração: 0 Loss: 0.7799213641588739\n",
      "Iteração: 10 Loss: 0.6618551324404068\n",
      "Iteração: 20 Loss: 0.591922597135838\n",
      "Iteração: 30 Loss: 0.5474074262469677\n",
      "Iteração: 40 Loss: 0.5158256706140624\n",
      "Iteração: 50 Loss: 0.4910140171747017\n",
      "Iteração: 60 Loss: 0.4700249805408981\n",
      "Iteração: 70 Loss: 0.45143732529184816\n",
      "Iteração: 80 Loss: 0.43454059162632747\n",
      "Iteração: 90 Loss: 0.41895654371818614\n",
      ".\n",
      "----------------------------------------------------------------------\n",
      "Ran 1 test in 0.008s\n",
      "\n",
      "OK\n"
     ]
    }
   ],
   "source": [
    "!python3 -m regressao_logistica_test TestRegressaoLogistica.test_fit"
   ]
  },
  {
   "cell_type": "markdown",
   "metadata": {},
   "source": [
    "**Atividade 8 - método predict**: usando as instancias `mat_x`, representando a matriz $X$ das instâncias que queremos prever, calcula-se o forward_propagation do modelo para, logo após, retornar o vetor de predições $\\hat{y}$. Para cada instancia $i$, esse vetor retornará 0 se $\\pmb{a_i}<0.5$ ou 1, caso contrário.\n",
    "Dica: você pode fazer isso de forma bem simples usando vetorização. Isso é mais eficiente computacionalmente. Exemplo:"
   ]
  },
  {
   "cell_type": "code",
   "execution_count": 57,
   "metadata": {},
   "outputs": [
    {
     "name": "stdout",
     "output_type": "stream",
     "text": [
      "[False False  True  True False]\n",
      "[0 0 3 3 0]\n"
     ]
    }
   ],
   "source": [
    "import numpy as np\n",
    "meu_querido_vetor = np.array([3,2,8,9,2])\n",
    "#a linha abaixo retorna true ou false, dependendo do valor\n",
    "print(meu_querido_vetor>4)\n",
    "#Se multiplicamos um número por um vetor numpy de true e false \n",
    "#. é o mesmo de multiplicarmos o número por 1 ou 0, respectivamente\n",
    "print(3*(meu_querido_vetor>4))\n"
   ]
  },
  {
   "cell_type": "code",
   "execution_count": 58,
   "metadata": {},
   "outputs": [
    {
     "name": "stdout",
     "output_type": "stream",
     "text": [
      ".\n",
      "----------------------------------------------------------------------\n",
      "Ran 1 test in 0.001s\n",
      "\n",
      "OK\n"
     ]
    }
   ],
   "source": [
    "!python3 -m regressao_logistica_test TestRegressaoLogistica.test_predict"
   ]
  },
  {
   "cell_type": "markdown",
   "metadata": {},
   "source": [
    "## Meu primeiro método de Aprendizado de Máquina: Vamos ver funcionando 😍 "
   ]
  },
  {
   "cell_type": "code",
   "execution_count": 59,
   "metadata": {},
   "outputs": [],
   "source": [
    "import pandas as pd\n",
    "import sklearn.datasets\n",
    "import matplotlib.pyplot as plt\n",
    "from io import StringIO\n",
    "from regressao_logistica import *\n",
    "from util import *"
   ]
  },
  {
   "cell_type": "markdown",
   "metadata": {},
   "source": [
    "Use o dataset abaixo. Mande rodar e plote também o XX. Veja que ele irá plotar uma divisão linear dos resultados. Ainda não é a melhor solução para os dados que temos abaixo. Alguns problemas, que dizemos que são **linearmente separáveis**, usar uma função linear já é o suficiente."
   ]
  },
  {
   "cell_type": "code",
   "execution_count": 60,
   "metadata": {},
   "outputs": [],
   "source": [
    "#Dados a serem usados\n",
    "from pprint import pprint\n",
    "\n",
    "\n",
    "mat_x, arr_y = sklearn.datasets.make_moons(400, noise=0.10)"
   ]
  },
  {
   "cell_type": "code",
   "execution_count": 64,
   "metadata": {},
   "outputs": [],
   "source": [
    "# Crie o modelo de regressão logistica para esses dados\n",
    "obj_regressao_logistica = RegressaoLogistica(sigmoid.funcao, sigmoid.dz_funcao, 1000)"
   ]
  },
  {
   "cell_type": "code",
   "execution_count": 71,
   "metadata": {},
   "outputs": [
    {
     "name": "stdout",
     "output_type": "stream",
     "text": [
      "Iteração: 0 Loss: 0.3187694920164494\n",
      "Iteração: 10 Loss: 0.31067809900633003\n",
      "Iteração: 20 Loss: 0.3036585025284726\n",
      "Iteração: 30 Loss: 0.29758512901625783\n",
      "Iteração: 40 Loss: 0.2923456803666386\n",
      "Iteração: 50 Loss: 0.2878395239901171\n",
      "Iteração: 60 Loss: 0.2839763726002084\n",
      "Iteração: 70 Loss: 0.28067521500583437\n",
      "Iteração: 80 Loss: 0.27786344858694206\n",
      "Iteração: 90 Loss: 0.2754761619651864\n",
      "Iteração: 100 Loss: 0.2734555209630227\n",
      "Iteração: 110 Loss: 0.2717502197679244\n",
      "Iteração: 120 Loss: 0.27031496976702113\n",
      "Iteração: 130 Loss: 0.2691100087768236\n",
      "Iteração: 140 Loss: 0.268100622059606\n",
      "Iteração: 150 Loss: 0.2672566729828979\n",
      "Iteração: 160 Loss: 0.26655214537573163\n",
      "Iteração: 170 Loss: 0.26596470184812365\n",
      "Iteração: 180 Loss: 0.2654752630211022\n",
      "Iteração: 190 Loss: 0.26506761224904507\n",
      "Iteração: 200 Loss: 0.2647280294388386\n",
      "Iteração: 210 Loss: 0.2644449563247748\n",
      "Iteração: 220 Loss: 0.26420869428697574\n",
      "Iteração: 230 Loss: 0.26401113465657833\n",
      "Iteração: 240 Loss: 0.26384552051228105\n",
      "Iteração: 250 Loss: 0.2637062382671428\n",
      "Iteração: 260 Loss: 0.263588636864514\n",
      "Iteração: 270 Loss: 0.2634888721207946\n",
      "Iteração: 280 Loss: 0.26340377363469514\n",
      "Iteração: 290 Loss: 0.2633307316903426\n",
      "Iteração: 300 Loss: 0.26326760168005015\n",
      "Iteração: 310 Loss: 0.2632126237317732\n",
      "Iteração: 320 Loss: 0.26316435542170596\n",
      "Iteração: 330 Loss: 0.2631216156652196\n",
      "Iteração: 340 Loss: 0.2630834380954336\n",
      "Iteração: 350 Loss: 0.26304903244843925\n",
      "Iteração: 360 Loss: 0.2630177526712137\n",
      "Iteração: 370 Loss: 0.26298907064883165\n",
      "Iteração: 380 Loss: 0.26296255460997686\n",
      "Iteração: 390 Loss: 0.262937851413511\n",
      "Iteração: 400 Loss: 0.26291467204453695\n",
      "Iteração: 410 Loss: 0.2628927797571335\n",
      "Iteração: 420 Loss: 0.2628719803941435\n",
      "Iteração: 430 Loss: 0.26285211449371304\n",
      "Iteração: 440 Loss: 0.26283305085933245\n",
      "Iteração: 450 Loss: 0.262814681326478\n",
      "Iteração: 460 Loss: 0.2627969165060995\n",
      "Iteração: 470 Loss: 0.2627796823244277\n",
      "Iteração: 480 Loss: 0.26276291721117867\n",
      "Iteração: 490 Loss: 0.26274656981511485\n",
      "Iteração: 500 Loss: 0.26273059714815933\n",
      "Iteração: 510 Loss: 0.26271496307747977\n",
      "Iteração: 520 Loss: 0.26269963709994015\n",
      "Iteração: 530 Loss: 0.26268459334558353\n",
      "Iteração: 540 Loss: 0.26266980976679394\n",
      "Iteração: 550 Loss: 0.26265526747797757\n",
      "Iteração: 560 Loss: 0.2626409502172311\n",
      "Iteração: 570 Loss: 0.2626268439068996\n",
      "Iteração: 580 Loss: 0.26261293629428833\n",
      "Iteração: 590 Loss: 0.2625992166573879\n",
      "Iteração: 600 Loss: 0.2625856755633508\n",
      "Iteração: 610 Loss: 0.26257230466978826\n",
      "Iteração: 620 Loss: 0.26255909656087545\n",
      "Iteração: 630 Loss: 0.26254604461177\n",
      "Iteração: 640 Loss: 0.26253314287608626\n",
      "Iteração: 650 Loss: 0.2625203859921878\n",
      "Iteração: 660 Loss: 0.2625077691048499\n",
      "Iteração: 670 Loss: 0.26249528779950887\n",
      "Iteração: 680 Loss: 0.2624829380468433\n",
      "Iteração: 690 Loss: 0.26247071615585343\n",
      "Iteração: 700 Loss: 0.26245861873395154\n",
      "Iteração: 710 Loss: 0.2624466426528571\n",
      "Iteração: 720 Loss: 0.26243478501931256\n",
      "Iteração: 730 Loss: 0.26242304314981335\n",
      "Iteração: 740 Loss: 0.2624114145487052\n",
      "Iteração: 750 Loss: 0.2623998968890991\n",
      "Iteração: 760 Loss: 0.2623884879961788\n",
      "Iteração: 770 Loss: 0.2623771858325249\n",
      "Iteração: 780 Loss: 0.26236598848516435\n",
      "Iteração: 790 Loss: 0.2623548941540921\n",
      "Iteração: 800 Loss: 0.26234390114206624\n",
      "Iteração: 810 Loss: 0.2623330078454957\n",
      "Iteração: 820 Loss: 0.26232221274628303\n",
      "Iteração: 830 Loss: 0.26231151440449657\n",
      "Iteração: 840 Loss: 0.2623009114517753\n",
      "Iteração: 850 Loss: 0.2622904025853721\n",
      "Iteração: 860 Loss: 0.2622799865627674\n",
      "Iteração: 870 Loss: 0.2622696621967851\n",
      "Iteração: 880 Loss: 0.2622594283511569\n",
      "Iteração: 890 Loss: 0.2622492839364914\n",
      "Iteração: 900 Loss: 0.2622392279065998\n",
      "Iteração: 910 Loss: 0.26222925925514506\n",
      "Iteração: 920 Loss: 0.26221937701258763\n",
      "Iteração: 930 Loss: 0.2622095802433879\n",
      "Iteração: 940 Loss: 0.2621998680434551\n",
      "Iteração: 950 Loss: 0.2621902395378051\n",
      "Iteração: 960 Loss: 0.2621806938784227\n",
      "Iteração: 970 Loss: 0.2621712302422987\n",
      "Iteração: 980 Loss: 0.2621618478296293\n",
      "Iteração: 990 Loss: 0.2621525458621702\n"
     ]
    },
    {
     "data": {
      "image/png": "[encoded data removed]",
      "text/plain": [
       "<Figure size 640x480 with 1 Axes>"
      ]
     },
     "metadata": {},
     "output_type": "display_data"
    }
   ],
   "source": [
    "#crie o modelo usando mat_x e arr_y\n",
    "errors = obj_regressao_logistica.fit(mat_x, arr_y, 0.1)\n",
    "plt.plot(errors)\n",
    "plt.ylabel(\"Erro\")\n",
    "plt.show()"
   ]
  },
  {
   "cell_type": "code",
   "execution_count": 72,
   "metadata": {},
   "outputs": [
    {
     "name": "stdout",
     "output_type": "stream",
     "text": [
      "Accuracy: 0.88\n"
     ]
    },
    {
     "data": {
      "image/png": "[encoded data removed]",
      "text/plain": [
       "<Figure size 800x600 with 1 Axes>"
      ]
     },
     "metadata": {},
     "output_type": "display_data"
    }
   ],
   "source": [
    "# Apresente aqui a superfície de decisão desses dados\n",
    "from sklearn.metrics import accuracy_score\n",
    "\n",
    "plot_decision_boundary(obj_regressao_logistica,mat_x,arr_y)\n",
    "\n",
    "print(f\"Accuracy: {accuracy_score(obj_regressao_logistica.predict(mat_x), arr_y)}\")"
   ]
  },
  {
   "cell_type": "markdown",
   "metadata": {},
   "source": [
    "Descreva o impacto ao alterar a taxa de aprendizado e o número de épocas (`learning_rate` e `num_iteracoes`, respectivamente) algum desses parâmetros podem ocasionar overfitting/underfitting? Quando?"
   ]
  },
  {
   "cell_type": "markdown",
   "metadata": {},
   "source": [
    "Aumentando o learning_rate, é possível ver que a taxa de erro não diminui tanto quando com um learning_rate menor, mas aparentemente a acurácia não altera tanto. Com o numéro de iterações maior, é possível perceber que o erro se mostra constante depois de um determinado número de iterações. Podemos dizer que ocorre um underfitting quando o número de iterações é pequeno e não dá tempo para o modelo se ajustar."
   ]
  }
 ],
 "metadata": {
  "kernelspec": {
   "display_name": "Python 3.10.4 64-bit",
   "language": "python",
   "name": "python3"
  },
  "language_info": {
   "codemirror_mode": {
    "name": "ipython",
    "version": 3
   },
   "file_extension": ".py",
   "mimetype": "text/x-python",
   "name": "python",
   "nbconvert_exporter": "python",
   "pygments_lexer": "ipython3",
   "version": "3.10.4"
  },
  "vscode": {
   "interpreter": {
    "hash": "916dbcbb3f70747c44a77c7bcd40155683ae19c65e1c03b4aa3499c5328201f1"
   }
  }
 },
 "nbformat": 4,
 "nbformat_minor": 2
}
